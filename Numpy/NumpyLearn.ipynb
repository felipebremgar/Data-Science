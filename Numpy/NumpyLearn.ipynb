{
 "cells": [
  {
   "cell_type": "code",
   "execution_count": 1,
   "id": "9f004130-5097-4904-9931-ea5b6800d1d0",
   "metadata": {},
   "outputs": [],
   "source": [
    "import numpy as np"
   ]
  },
  {
   "cell_type": "code",
   "execution_count": 9,
   "id": "495bb752-f748-451c-852d-f07d1db967a6",
   "metadata": {
    "collapsed": true,
    "jupyter": {
     "outputs_hidden": true
    },
    "tags": []
   },
   "outputs": [
    {
     "name": "stdout",
     "output_type": "stream",
     "text": [
      "[[1. 2. 3.]\n",
      " [4. 5. 6.]]\n",
      "Dimension 1\n",
      "Type float64 Size 8 bytes\n"
     ]
    },
    {
     "data": {
      "text/plain": [
       "(2, 3)"
      ]
     },
     "execution_count": 9,
     "metadata": {},
     "output_type": "execute_result"
    }
   ],
   "source": [
    "#The Basic\n",
    "a = np.array([1,2,3], dtype='int8')\n",
    "b = np.array([[1.0,2.0,3.0],[4.0,5.0,6.0]])\n",
    "\n",
    "#print\n",
    "print(b)\n",
    "\n",
    "#print Dimension\n",
    "print(\"Dimension\", a.ndim)\n",
    "\n",
    "#print type/size\n",
    "print(\"Type\", b.dtype, \"Size\", b.itemsize, \"bytes\")\n",
    "\n",
    "#get shape\n",
    "b.shape"
   ]
  },
  {
   "cell_type": "code",
   "execution_count": 35,
   "id": "7fad967c-d337-4920-b309-4e70ecbc9fa6",
   "metadata": {
    "collapsed": true,
    "jupyter": {
     "outputs_hidden": true
    },
    "tags": []
   },
   "outputs": [
    {
     "data": {
      "text/plain": [
       "array([[[1, 4, 3],\n",
       "        [4, 5, 6],\n",
       "        [7, 6, 9]]])"
      ]
     },
     "execution_count": 35,
     "metadata": {},
     "output_type": "execute_result"
    }
   ],
   "source": [
    "#Acessing/Changing Specific Elements\n",
    "a = np.array([[1,2,3,4,5,6,7],[8,9,10,11,12,13,14]])\n",
    "a.shape\n",
    "#Get Element\n",
    "a[0,3]\n",
    "#Get Row\n",
    "a[0,:]\n",
    "#Get Column\n",
    "a[:,2]\n",
    "#[startindex:endindex:stepsize]\n",
    "a[0, 1: -1: 2]\n",
    "#3d Example\n",
    "b = np.array([[[1,2,3],[4,5,6],[7,8,9]]])\n",
    "#specific element (outside in)\n",
    "b[0,1,1]\n",
    "b[:,:,1]\n",
    "#replace\n",
    "b[:,:,1] = [4,5,6]\n",
    "b"
   ]
  },
  {
   "cell_type": "code",
   "execution_count": 68,
   "id": "7c48e1fd-6add-4ec6-97fe-b0bb72d24e90",
   "metadata": {},
   "outputs": [],
   "source": [
    "#Initializing Different Types of Arrays\n",
    "a = np.zeros((3,3)) #0\n",
    "np.ones((4,2,4), dtype='int32') #1\n",
    "np.full((2,2), 42) #any number\n",
    "np.full_like(a, 42) #any number with a shape used before\n",
    "np.full(a.shape, 42) #other way to make\n",
    "np.random.rand(4,2) # fill with random numbers\n",
    "np.random.random_sample(b.shape) #fill the shape with random\n",
    "b = np.random.randint(42, size = (3,3)) #fill with integers\n",
    "np.identity(3, dtype='int32')\n",
    "np.repeat(b,3,axis = 0)\n",
    "c = b.copy() #you have to copy with the function, because if you just insert the value it will be a pointer"
   ]
  },
  {
   "cell_type": "code",
   "execution_count": 85,
   "id": "310543f8-0616-4df8-8fd3-29ba522e9816",
   "metadata": {},
   "outputs": [
    {
     "data": {
      "text/plain": [
       "array([ 1.55740772, -2.18503986, -0.14254654,  1.15782128])"
      ]
     },
     "execution_count": 85,
     "metadata": {},
     "output_type": "execute_result"
    }
   ],
   "source": [
    "#Mathematics\n",
    "a = np.array([1,2,3,4])\n",
    "a+2\n",
    "a-2\n",
    "a*2\n",
    "a/2\n",
    "a**2\n",
    "np.cos(a)\n",
    "np.sin(a)\n",
    "np.tan(a)"
   ]
  },
  {
   "cell_type": "code",
   "execution_count": 94,
   "id": "5eaf7cda-67ef-4f98-80e4-a3aba06390ce",
   "metadata": {},
   "outputs": [
    {
     "data": {
      "text/plain": [
       "1.0"
      ]
     },
     "execution_count": 94,
     "metadata": {},
     "output_type": "execute_result"
    }
   ],
   "source": [
    "#linear Algebra\n",
    "a = np.ones((2,3))\n",
    "b = np.full ((3,2), 2)\n",
    "np.matmul(a,b)\n",
    "np.matmul(b,a)\n",
    "c = np.identity(7)\n",
    "np.linalg.det(c) #Determinant"
   ]
  },
  {
   "cell_type": "code",
   "execution_count": 99,
   "id": "13d7016e-7220-4a6a-9a5c-4f2aaa3913cd",
   "metadata": {},
   "outputs": [
    {
     "data": {
      "text/plain": [
       "21"
      ]
     },
     "execution_count": 99,
     "metadata": {},
     "output_type": "execute_result"
    }
   ],
   "source": [
    "#Statistics\n",
    "values = np.array ([[1,2,3], [4,5,6]])\n",
    "np.min(values, axis = 1) #axis = 0 == Lines/ axis = 1 == Columns\n",
    "np.max(values)\n",
    "np.sum(values)"
   ]
  },
  {
   "cell_type": "code",
   "execution_count": 121,
   "id": "fc43433f-ebba-4e3d-819e-18b24d18154c",
   "metadata": {},
   "outputs": [
    {
     "data": {
      "text/plain": [
       "array([1, 2, 3, 4, 5, 6, 7, 8, 5, 6, 7, 8, 5, 6, 7, 8, 1, 2, 3, 4])"
      ]
     },
     "execution_count": 121,
     "metadata": {},
     "output_type": "execute_result"
    }
   ],
   "source": [
    "#Reorganizing Arrays\n",
    "before = np.array ([[1,2,3], [4,5,6]])\n",
    "after = before.reshape((2,3))\n",
    "#vertically stacking vector\n",
    "ba = np.array([1,2,3,4])\n",
    "be = np.array([5,6,7,8])\n",
    "np.vstack([ba,be,ba,ba,be])\n",
    "#Horizontal stack\n",
    "np.hstack([ba,be,be,be,ba])"
   ]
  },
  {
   "cell_type": "code",
   "execution_count": 127,
   "id": "cc3d8351-3a05-4a79-92ff-41a59430b208",
   "metadata": {},
   "outputs": [
    {
     "data": {
      "text/plain": [
       "array([[ 12,   1, 212,  12,   1,   2,  12,   1,  21,   2],\n",
       "       [ 54,   5,  45,   4,  54,   5,  45,   4,   5,  54],\n",
       "       [  1,  23,  14,   8,   3,  54,   6,  57,   5,   4]])"
      ]
     },
     "execution_count": 127,
     "metadata": {},
     "output_type": "execute_result"
    }
   ],
   "source": [
    "#load data from file\n",
    "data = np.genfromtxt('data.txt', delimiter=',')\n",
    "data.astype('int32')"
   ]
  },
  {
   "cell_type": "code",
   "execution_count": 138,
   "id": "6621c306-b5a7-4cdc-b45d-1b714ed162e1",
   "metadata": {},
   "outputs": [
    {
     "data": {
      "text/plain": [
       "array([ True, False, False])"
      ]
     },
     "execution_count": 138,
     "metadata": {},
     "output_type": "execute_result"
    }
   ],
   "source": [
    "#Boolean masking\n",
    "data > 50\n",
    "data[data > 50]\n",
    "np.any(data>50, axis=0)\n",
    "np.any(data>100, axis=1)"
   ]
  },
  {
   "cell_type": "code",
   "execution_count": null,
   "id": "426a6903-8123-4d28-9011-5a1808413659",
   "metadata": {},
   "outputs": [],
   "source": [
    "#indexing list\n",
    "a = np.array([1,2,3,4,5,6,7,8,9,1])\n",
    "a[[1,2,9]]"
   ]
  },
  {
   "cell_type": "code",
   "execution_count": null,
   "id": "533ecaf6-957a-43f2-ae1e-fd3a5b46c158",
   "metadata": {},
   "outputs": [],
   "source": []
  }
 ],
 "metadata": {
  "kernelspec": {
   "display_name": "Python 3",
   "language": "python",
   "name": "python3"
  },
  "language_info": {
   "codemirror_mode": {
    "name": "ipython",
    "version": 3
   },
   "file_extension": ".py",
   "mimetype": "text/x-python",
   "name": "python",
   "nbconvert_exporter": "python",
   "pygments_lexer": "ipython3",
   "version": "3.8.8"
  }
 },
 "nbformat": 4,
 "nbformat_minor": 5
}
