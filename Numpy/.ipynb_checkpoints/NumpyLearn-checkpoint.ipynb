{
 "cells": [
  {
   "cell_type": "code",
   "execution_count": 1,
   "id": "9f004130-5097-4904-9931-ea5b6800d1d0",
   "metadata": {},
   "outputs": [],
   "source": [
    "import numpy as np"
   ]
  },
  {
   "cell_type": "code",
   "execution_count": 9,
   "id": "495bb752-f748-451c-852d-f07d1db967a6",
   "metadata": {
    "collapsed": true,
    "jupyter": {
     "outputs_hidden": true
    },
    "tags": []
   },
   "outputs": [
    {
     "name": "stdout",
     "output_type": "stream",
     "text": [
      "[[1. 2. 3.]\n",
      " [4. 5. 6.]]\n",
      "Dimension 1\n",
      "Type float64 Size 8 bytes\n"
     ]
    },
    {
     "data": {
      "text/plain": [
       "(2, 3)"
      ]
     },
     "execution_count": 9,
     "metadata": {},
     "output_type": "execute_result"
    }
   ],
   "source": [
    "#The Basic\n",
    "a = np.array([1,2,3], dtype='int8')\n",
    "b = np.array([[1.0,2.0,3.0],[4.0,5.0,6.0]])\n",
    "\n",
    "#print\n",
    "print(b)\n",
    "\n",
    "#print Dimension\n",
    "print(\"Dimension\", a.ndim)\n",
    "\n",
    "#print type/size\n",
    "print(\"Type\", b.dtype, \"Size\", b.itemsize, \"bytes\")\n",
    "\n",
    "#get shape\n",
    "b.shape"
   ]
  },
  {
   "cell_type": "code",
   "execution_count": 35,
   "id": "7fad967c-d337-4920-b309-4e70ecbc9fa6",
   "metadata": {
    "collapsed": true,
    "jupyter": {
     "outputs_hidden": true
    },
    "tags": []
   },
   "outputs": [
    {
     "data": {
      "text/plain": [
       "array([[[1, 4, 3],\n",
       "        [4, 5, 6],\n",
       "        [7, 6, 9]]])"
      ]
     },
     "execution_count": 35,
     "metadata": {},
     "output_type": "execute_result"
    }
   ],
   "source": [
    "#Acessing/Changing Specific Elements\n",
    "a = np.array([[1,2,3,4,5,6,7],[8,9,10,11,12,13,14]])\n",
    "a.shape\n",
    "#Get Element\n",
    "a[0,3]\n",
    "#Get Row\n",
    "a[0,:]\n",
    "#Get Column\n",
    "a[:,2]\n",
    "#[startindex:endindex:stepsize]\n",
    "a[0, 1: -1: 2]\n",
    "#3d Example\n",
    "b = np.array([[[1,2,3],[4,5,6],[7,8,9]]])\n",
    "#specific element (outside in)\n",
    "b[0,1,1]\n",
    "b[:,:,1]\n",
    "#replace\n",
    "b[:,:,1] = [4,5,6]\n",
    "b"
   ]
  },
  {
   "cell_type": "code",
   "execution_count": 68,
   "id": "7c48e1fd-6add-4ec6-97fe-b0bb72d24e90",
   "metadata": {},
   "outputs": [],
   "source": [
    "#Initializing Different Types of Arrays\n",
    "a = np.zeros((3,3)) #0\n",
    "np.ones((4,2,4), dtype='int32') #1\n",
    "np.full((2,2), 42) #any number\n",
    "np.full_like(a, 42) #any number with a shape used before\n",
    "np.full(a.shape, 42) #other way to make\n",
    "np.random.rand(4,2) # fill with random numbers\n",
    "np.random.random_sample(b.shape) #fill the shape with random\n",
    "b = np.random.randint(42, size = (3,3)) #fill with integers\n",
    "np.identity(3, dtype='int32')\n",
    "np.repeat(b,3,axis = 0)\n",
    "c = b.copy() #you have to copy with the function, because if you just insert the value it will be a pointer"
   ]
  },
  {
   "cell_type": "code",
   "execution_count": null,
   "id": "310543f8-0616-4df8-8fd3-29ba522e9816",
   "metadata": {},
   "outputs": [],
   "source": [
    "#Mathematics\n"
   ]
  }
 ],
 "metadata": {
  "kernelspec": {
   "display_name": "Python 3",
   "language": "python",
   "name": "python3"
  },
  "language_info": {
   "codemirror_mode": {
    "name": "ipython",
    "version": 3
   },
   "file_extension": ".py",
   "mimetype": "text/x-python",
   "name": "python",
   "nbconvert_exporter": "python",
   "pygments_lexer": "ipython3",
   "version": "3.8.8"
  }
 },
 "nbformat": 4,
 "nbformat_minor": 5
}
